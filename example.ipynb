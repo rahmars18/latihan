{
 "cells": [
  {
   "cell_type": "code",
   "execution_count": null,
   "id": "17014f0b-9523-4a23-8c9f-989bc33d2625",
   "metadata": {},
   "outputs": [],
   "source": [
    "print(\"Hello world\""
   ]
  }
 ],
 "metadata": {
  "kernelspec": {
   "display_name": "Python 3 (ipykernel)",
   "language": "python",
   "name": "python3"
  },
  "language_info": {
   "codemirror_mode": {
    "name": "ipython",
    "version": 3
   },
   "file_extension": ".py",
   "mimetype": "text/x-python",
   "name": "python",
   "nbconvert_exporter": "python",
   "pygments_lexer": "ipython3",
   "version": "3.10.6"
  }
 },
 "nbformat": 4,
 "nbformat_minor": 5
}
